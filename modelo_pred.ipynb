{
 "cells": [
  {
   "cell_type": "code",
   "execution_count": null,
   "metadata": {},
   "outputs": [],
   "source": [
    "import pickle\n",
    "import pandas as pd\n",
    "import missingno as msno\n",
    "import matplotlib.pyplot as plt\n",
    "import seaborn as sns\n",
    "from sklearn.model_selection import train_test_split\n",
    "from sklearn.metrics import confusion_matrix\n",
    "from imblearn.over_sampling import SMOTE\n",
    "from sklearn.ensemble import RandomForestClassifier\n",
    "from sklearn.preprocessing import OneHotEncoder\n",
    "from sklearn.compose import ColumnTransformer\n",
    "from sklearn.pipeline import Pipeline\n",
    "from sklearn.impute import SimpleImputer\n",
    "from ydata_profiling import ProfileReport\n",
    "\n",
    "pd.set_option('display.max_columns', None)\n",
    "df = pd.read_csv('merge2018-tratado.csv')"
   ]
  },
  {
   "cell_type": "code",
   "execution_count": null,
   "metadata": {},
   "outputs": [],
   "source": [
    "df.head(2)"
   ]
  },
  {
   "cell_type": "code",
   "execution_count": null,
   "metadata": {},
   "outputs": [],
   "source": [
    "df.info()"
   ]
  },
  {
   "cell_type": "code",
   "execution_count": null,
   "metadata": {},
   "outputs": [],
   "source": [
    "#a media representa a proporção de valores 1, ou seja, valores ausentes.\n",
    "df.isnull().mean()"
   ]
  },
  {
   "cell_type": "code",
   "execution_count": null,
   "metadata": {},
   "outputs": [],
   "source": [
    "#seleciona todas as linhas onde a média de valores ausentes é maior que 0 e ordena\n",
    "df.loc[:, df.isnull().mean() > 0].isnull().mean().sort_values"
   ]
  },
  {
   "cell_type": "code",
   "execution_count": null,
   "metadata": {},
   "outputs": [],
   "source": [
    "#serializar a informação obtida anteriormente\n",
    "#obter o index das colunas com pelo menos 17% dos valores ausentes e remover do banco\n",
    "missing_proporcion = df.loc[:, df.isnull().mean() > 0].isnull().mean().sort_values()\n",
    "cols_drop = missing_proporcion[missing_proporcion > 0.17].index\n",
    "df = df.drop(columns=cols_drop)\n",
    "df.shape"
   ]
  },
  {
   "cell_type": "code",
   "execution_count": 7,
   "metadata": {},
   "outputs": [],
   "source": [
    "#seleciona as colunas do data set com tipo numerico e categorico e as separa\n",
    "numerical_cols = df.select_dtypes(exclude=['object']).columns\n",
    "categorical_cols = df.select_dtypes(include=['object']).columns"
   ]
  },
  {
   "cell_type": "code",
   "execution_count": 8,
   "metadata": {},
   "outputs": [],
   "source": [
    "numerical_df = df[numerical_cols]\n",
    "categorical_df = df[categorical_cols]"
   ]
  },
  {
   "cell_type": "code",
   "execution_count": null,
   "metadata": {},
   "outputs": [],
   "source": [
    "msno.matrix(numerical_df, labels=True)"
   ]
  },
  {
   "cell_type": "code",
   "execution_count": null,
   "metadata": {},
   "outputs": [],
   "source": [
    "msno.matrix(categorical_df, labels=True)"
   ]
  },
  {
   "cell_type": "code",
   "execution_count": null,
   "metadata": {},
   "outputs": [],
   "source": [
    "df['Situação no Curso'].value_counts()"
   ]
  },
  {
   "cell_type": "code",
   "execution_count": null,
   "metadata": {},
   "outputs": [],
   "source": [
    "df['Situação no Curso'].value_counts().plot(kind='bar')\n",
    "df[df['Situação no Curso'].isnull()].shape"
   ]
  },
  {
   "cell_type": "code",
   "execution_count": null,
   "metadata": {},
   "outputs": [],
   "source": [
    "df = df[ df['Situação no Curso'].isin(['Evasão', 'Matriculado', 'Concluído', 'Cancelado', 'Formado', 'Jubilado', 'Trancado Voluntariamente', 'Trancado', 'Cancelamento por Desligamento', 'Transferido Interno', 'Transferido Externo', 'Intercâmbio'])]\n",
    "df['class'] = df['Situação no Curso'].apply(lambda x:1 if x in ['Evasão', 'Cancelado', 'Jubilado', 'Cancelamento por Desligamento'] else 0)\n",
    "df['class'].value_counts().plot(kind='bar')\n",
    "df[df['class'].isnull()].shape"
   ]
  },
  {
   "cell_type": "code",
   "execution_count": 14,
   "metadata": {},
   "outputs": [],
   "source": [
    "x = df.drop(['class', 'Situação no Curso', 'Situação no Período', 'Unnamed: 0'], axis=1)\n",
    "y = df['class']"
   ]
  },
  {
   "cell_type": "code",
   "execution_count": null,
   "metadata": {},
   "outputs": [],
   "source": [
    "# Recriar o DataFrame incluindo a coluna 'class'\n",
    "df_modificado = x.copy()\n",
    "df_modificado['class'] = df['class']\n",
    "\n",
    "profile = ProfileReport(df_modificado, title=\"Relatório de Análise - Dados de Evasão\", explorative=True)\n",
    "\n",
    "profile.to_notebook_iframe()\n",
    "\n",
    "profile.to_file(\"relatorio_dados_evasao_modificado.html\")\n",
    "\n",
    "# Exibir as contagens da variável alvo\n",
    "print(df_modificado['class'].value_counts())"
   ]
  },
  {
   "cell_type": "code",
   "execution_count": null,
   "metadata": {},
   "outputs": [],
   "source": [
    "msno.matrix(x, labels=True)"
   ]
  },
  {
   "cell_type": "code",
   "execution_count": null,
   "metadata": {},
   "outputs": [],
   "source": [
    "x_train, x_test, y_train, y_test = train_test_split(x, y, test_size=0.3, random_state=42, stratify=y)\n",
    "x_train.shape, x_test.shape, y_train.shape, y_test.shape"
   ]
  },
  {
   "cell_type": "code",
   "execution_count": 18,
   "metadata": {},
   "outputs": [],
   "source": [
    "# Recalculando colunas numéricas e categóricas após as remoções\n",
    "numerical_cols = x_train.select_dtypes(exclude=['object']).columns\n",
    "categorical_cols = x_train.select_dtypes(include=['object']).columns"
   ]
  },
  {
   "cell_type": "code",
   "execution_count": 19,
   "metadata": {},
   "outputs": [],
   "source": [
    "#imputar missing, tratar e padronizar variaveis categoricas somente após definir treino e teste.\n",
    "#os nomes nos pipelines e columnsTransformer são para facilitar a busca de erros\n",
    "\n",
    "#imputa os valores missing nas variaveis numericas com a mediana\n",
    "numeric_transformer = Pipeline(steps=[\n",
    "    (\"imputer\", SimpleImputer(strategy=\"median\"))\n",
    "])\n",
    "\n",
    "#imputa os valores missing das variaveis categoricas com o valor mais frequente\n",
    "#aplica o OneHotEncoder transformado as variaveies em dummies\n",
    "categorical_transformer = Pipeline(steps=[\n",
    "    (\"imputer2\", SimpleImputer(strategy='most_frequent')),\n",
    "    (\"enclude\", OneHotEncoder(handle_unknown='ignore'))\n",
    "])\n",
    "\n",
    "#no columnsTransformer passamos um nome, o passo que queremos aplicar, nesse caso o que foi feito anteriormente pelo pipeline e as colunas que desejamos aplicar os passos\n",
    "preprocessor = ColumnTransformer(\n",
    "    transformers=[\n",
    "        ('num', numeric_transformer, numerical_cols),\n",
    "        ('cat', categorical_transformer, categorical_cols)\n",
    "    ]\n",
    ")"
   ]
  },
  {
   "cell_type": "code",
   "execution_count": null,
   "metadata": {},
   "outputs": [],
   "source": [
    "#utilizamos fit apenas no treino\n",
    "#imputa e transforma os dados do treino\n",
    "x_train_transformed = preprocessor.fit_transform(x_train)\n",
    "\n",
    "#imputa e transforma os dados de teste\n",
    "x_test_transformed = preprocessor.transform(x_test)\n",
    "\n",
    "# Inicializar o SMOTE\n",
    "smote = SMOTE(random_state=42)\n",
    "\n",
    "# Aplicar o SMOTE apenas no conjunto de treino\n",
    "x_train_balanced, y_train_balanced = smote.fit_resample(x_train_transformed, y_train)\n",
    "\n",
    "# Verificar a nova distribuição\n",
    "print(f'Distribuição de classes após SMOTE: \\n{y_train_balanced.value_counts()}')"
   ]
  },
  {
   "cell_type": "code",
   "execution_count": null,
   "metadata": {},
   "outputs": [],
   "source": [
    "#criamos o modelo e treinamos\n",
    "rf = RandomForestClassifier()\n",
    "rf.fit(x_train_balanced, y_train_balanced)"
   ]
  },
  {
   "cell_type": "code",
   "execution_count": null,
   "metadata": {},
   "outputs": [],
   "source": [
    "# Obter a importância das características\n",
    "importances = rf.feature_importances_\n",
    "\n",
    "# Criar um DataFrame com as importâncias\n",
    "feature_importance_df = pd.DataFrame({\n",
    "    'Feature': numerical_cols.tolist() + list(preprocessor.named_transformers_['cat']['enclude'].get_feature_names_out(categorical_cols)),\n",
    "    'Importance': importances\n",
    "})\n",
    "\n",
    "# Ordenar as características pela importância\n",
    "feature_importance_df = feature_importance_df.sort_values(by='Importance', ascending=False)\n",
    "\n",
    "# Visualizar as importâncias\n",
    "plt.figure(figsize=(10, 6))\n",
    "sns.barplot(x='Importance', y='Feature', data=feature_importance_df.head(20))\n",
    "plt.title('Top 20 Features by Importance')\n",
    "plt.show()"
   ]
  },
  {
   "cell_type": "code",
   "execution_count": null,
   "metadata": {},
   "outputs": [],
   "source": [
    "y_pred = rf.predict(x_test_transformed)\n",
    "y_pred"
   ]
  },
  {
   "cell_type": "code",
   "execution_count": null,
   "metadata": {},
   "outputs": [],
   "source": [
    "cm = confusion_matrix(y_test, y_pred)\n",
    "print(cm)"
   ]
  },
  {
   "cell_type": "code",
   "execution_count": null,
   "metadata": {},
   "outputs": [],
   "source": [
    "plt.figure(figsize=(8, 6))\n",
    "sns.heatmap(cm, annot=True, fmt='d', cmap='Blues')\n",
    "plt.xlabel('Predicted Labels')\n",
    "plt.ylabel('True Labels')\n",
    "plt.title('Confusion Matrix')\n",
    "plt.show()"
   ]
  },
  {
   "cell_type": "code",
   "execution_count": null,
   "metadata": {},
   "outputs": [],
   "source": [
    "from sklearn.metrics import accuracy_score\n",
    "\n",
    "accuracy = accuracy_score(y_test, y_pred)\n",
    "print(f'Acurácia: {accuracy:.2f}')"
   ]
  },
  {
   "cell_type": "code",
   "execution_count": null,
   "metadata": {},
   "outputs": [],
   "source": [
    "from sklearn.metrics import classification_report\n",
    "\n",
    "report = classification_report(y_test, y_pred)\n",
    "print(report)"
   ]
  },
  {
   "cell_type": "code",
   "execution_count": null,
   "metadata": {},
   "outputs": [],
   "source": [
    "from sklearn.metrics import roc_curve, auc\n",
    "\n",
    "y_proba = rf.predict_proba(x_test_transformed)[:, 1]  # Probabilidades para a classe positiva\n",
    "fpr, tpr, thresholds = roc_curve(y_test, y_proba)\n",
    "roc_auc = auc(fpr, tpr)\n",
    "\n",
    "plt.figure(figsize=(8, 6))\n",
    "plt.plot(fpr, tpr, color='blue', label=f'AUC = {roc_auc:.2f}')\n",
    "plt.plot([0, 1], [0, 1], color='red', linestyle='--')\n",
    "plt.xlabel('Taxa de Falsos Positivos')\n",
    "plt.ylabel('Taxa de Verdadeiros Positivos')\n",
    "plt.title('Curva ROC')\n",
    "plt.legend()\n",
    "plt.show()"
   ]
  },
  {
   "cell_type": "code",
   "execution_count": 29,
   "metadata": {},
   "outputs": [],
   "source": [
    "# Cria um arquivo para armazenar o modelo criado, em formato binário\n",
    "rf_picle = open('modelo_pred.pickle', 'wb')\n",
    "\n",
    "# Serializa o objeto rf (modelo criado), para que possa ser usado posteriormente\n",
    "pickle.dump(rf, rf_picle)\n",
    "\n",
    "# Fecha o arquivo para garantir que os dados sejam salvos\n",
    "rf_picle.close()\n",
    "\n",
    "# Obter os valores únicos da variável alvo após o balanceamento com SMOTE\n",
    "class_uniques = y_train_balanced.unique()\n",
    "\n",
    "# Abre um arquivo para salvar os valores únicos da variável alvo\n",
    "output_pickle = open('output_class.pickle', 'wb')\n",
    "\n",
    "# Serializa o objeto class_uniques, que são os valores da variável alvo, escrevendo-os dentro do arquivo output_pickle\n",
    "pickle.dump(class_uniques, output_pickle)\n",
    "\n",
    "# Fecha o arquivo garantindo que suas informações serão gravadas no disco\n",
    "output_pickle.close()"
   ]
  }
 ],
 "metadata": {
  "kernelspec": {
   "display_name": "Python 3",
   "language": "python",
   "name": "python3"
  },
  "language_info": {
   "codemirror_mode": {
    "name": "ipython",
    "version": 3
   },
   "file_extension": ".py",
   "mimetype": "text/x-python",
   "name": "python",
   "nbconvert_exporter": "python",
   "pygments_lexer": "ipython3",
   "version": "3.12.4"
  }
 },
 "nbformat": 4,
 "nbformat_minor": 2
}
